{
 "cells": [
  {
   "cell_type": "code",
   "execution_count": 1,
   "id": "f58449c1",
   "metadata": {},
   "outputs": [
    {
     "data": {
      "text/html": [
       "\n",
       "            <div>\n",
       "                <p><b>SparkSession - in-memory</b></p>\n",
       "                \n",
       "        <div>\n",
       "            <p><b>SparkContext</b></p>\n",
       "\n",
       "            <p><a href=\"http://LAPTOP-P2I77357.mshome.net:4040\">Spark UI</a></p>\n",
       "\n",
       "            <dl>\n",
       "              <dt>Version</dt>\n",
       "                <dd><code>v3.1.2</code></dd>\n",
       "              <dt>Master</dt>\n",
       "                <dd><code>local[*]</code></dd>\n",
       "              <dt>AppName</dt>\n",
       "                <dd><code>Cost Percentage per Environment</code></dd>\n",
       "            </dl>\n",
       "        </div>\n",
       "        \n",
       "            </div>\n",
       "        "
      ],
      "text/plain": [
       "<pyspark.sql.session.SparkSession at 0x16b002ef7c0>"
      ]
     },
     "execution_count": 1,
     "metadata": {},
     "output_type": "execute_result"
    }
   ],
   "source": [
    "import findspark\n",
    "findspark.init()\n",
    "\n",
    "import pyspark\n",
    "from pyspark.sql import SparkSession\n",
    "spark = SparkSession.builder.appName(\"Cost Percentage per Environment\").getOrCreate()\n",
    "spark"
   ]
  },
  {
   "cell_type": "code",
   "execution_count": 2,
   "id": "010dbdd1",
   "metadata": {},
   "outputs": [],
   "source": [
    "path = \"C:\\\\Users\\\\vaish\\\\pyspark prac\\\\Data 16-11-n/\""
   ]
  },
  {
   "cell_type": "code",
   "execution_count": 3,
   "id": "5585d638",
   "metadata": {},
   "outputs": [],
   "source": [
    "from pyspark.sql.functions import *\n",
    "from pyspark.sql.types import *"
   ]
  },
  {
   "cell_type": "code",
   "execution_count": 4,
   "id": "0540ca68",
   "metadata": {},
   "outputs": [],
   "source": [
    "schm = StructType([\n",
    "    StructField(\"agmbgm\",StringType(),True),\n",
    "    StructField(\"business_unit\",StringType(),True),\n",
    "    StructField(\"dateTime\",TimestampType(),True),\n",
    "    StructField(\"chargetype\",StringType(),True),\n",
    "    StructField(\"cluster_cost\",BooleanType(),True),\n",
    "    StructField(\"cost\",DoubleType(),True),\n",
    "    StructField(\"cost_location\",StringType(),True),\n",
    "    StructField(\"currency\",StringType(),True),\n",
    "    StructField(\"departmentCode\",StringType(),True),\n",
    "    StructField(\"environment\",StringType(),True),\n",
    "    StructField(\"exec_owner\",StringType(),True),\n",
    "    StructField(\"finance_owner\",StringType(),True),\n",
    "    StructField(\"friendly_name\",StringType(),True),\n",
    "    StructField(\"is_cie_project\",BooleanType(),True),\n",
    "    StructField(\"meter\",StringType(),True),\n",
    "    StructField(\"meter_subcategory\",StringType(),True),\n",
    "    StructField(\"pricingmodel\",StringType(),True),\n",
    "    StructField(\"product\",StringType(),True),\n",
    "    StructField(\"product_owner\",StringType(),True),\n",
    "    StructField(\"project_name\",StringType(),True),\n",
    "    StructField(\"res_name\",StringType(),True),\n",
    "    StructField(\"resource_group\",StringType(),True),\n",
    "    StructField(\"run_date\",StringType(),True),\n",
    "    StructField(\"service_name\",StringType(),True),\n",
    "    StructField(\"service_tier\",StringType(),True),\n",
    "    StructField(\"sleeve\",StringType(),True),\n",
    "    StructField(\"unique_id\",LongType(),True),\n",
    "    StructField(\"to_date\",IntegerType(),True),\n",
    "    StructField(\"to_hour\",IntegerType(),True)\n",
    "    \n",
    "    \n",
    "])"
   ]
  },
  {
   "cell_type": "markdown",
   "id": "07c760de",
   "metadata": {},
   "source": [
    "reading non rep data saved in previous task  "
   ]
  },
  {
   "cell_type": "code",
   "execution_count": 5,
   "id": "06c1e691",
   "metadata": {},
   "outputs": [],
   "source": [
    "df = spark.read.csv(path+'part*',schema = schm)"
   ]
  },
  {
   "cell_type": "markdown",
   "id": "c6d20a6e",
   "metadata": {},
   "source": [
    "new dataframe for env and total cost"
   ]
  },
  {
   "cell_type": "code",
   "execution_count": 9,
   "id": "18c63533",
   "metadata": {
    "scrolled": false
   },
   "outputs": [],
   "source": [
    "df_cost = df.groupBy(\"environment\").agg(sum('cost').alias('total_cost')).orderBy('environment')\n"
   ]
  },
  {
   "cell_type": "markdown",
   "id": "73d5137f",
   "metadata": {},
   "source": [
    "joining both df"
   ]
  },
  {
   "cell_type": "code",
   "execution_count": 10,
   "id": "2f59bc48",
   "metadata": {},
   "outputs": [],
   "source": [
    "df_req = df.join(df_cost,['environment'],\"left\")"
   ]
  },
  {
   "cell_type": "markdown",
   "id": "0359a044",
   "metadata": {},
   "source": [
    "req percentage cost of project name per environment"
   ]
  },
  {
   "cell_type": "code",
   "execution_count": 11,
   "id": "d4ef85e6",
   "metadata": {},
   "outputs": [],
   "source": [
    "df_per = df_req.withColumn(\"cost_percent\",df_req.cost/df_req.total_cost*100)"
   ]
  },
  {
   "cell_type": "code",
   "execution_count": 33,
   "id": "5a4b2ea6",
   "metadata": {
    "scrolled": false
   },
   "outputs": [
    {
     "data": {
      "text/html": [
       "<div>\n",
       "<style scoped>\n",
       "    .dataframe tbody tr th:only-of-type {\n",
       "        vertical-align: middle;\n",
       "    }\n",
       "\n",
       "    .dataframe tbody tr th {\n",
       "        vertical-align: top;\n",
       "    }\n",
       "\n",
       "    .dataframe thead th {\n",
       "        text-align: right;\n",
       "    }\n",
       "</style>\n",
       "<table border=\"1\" class=\"dataframe\">\n",
       "  <thead>\n",
       "    <tr style=\"text-align: right;\">\n",
       "      <th></th>\n",
       "      <th>environment</th>\n",
       "      <th>project_name</th>\n",
       "      <th>percentage_cost_env</th>\n",
       "    </tr>\n",
       "  </thead>\n",
       "  <tbody>\n",
       "    <tr>\n",
       "      <th>0</th>\n",
       "      <td>Australia Prod AustraliaCentral</td>\n",
       "      <td>Analytics-Services</td>\n",
       "      <td>2.413052e-07</td>\n",
       "    </tr>\n",
       "    <tr>\n",
       "      <th>1</th>\n",
       "      <td>Australia Prod AustraliaCentral</td>\n",
       "      <td>BackupPTT</td>\n",
       "      <td>1.053433e+00</td>\n",
       "    </tr>\n",
       "    <tr>\n",
       "      <th>2</th>\n",
       "      <td>Australia Prod AustraliaCentral</td>\n",
       "      <td>CAD-WebClient</td>\n",
       "      <td>1.105886e-01</td>\n",
       "    </tr>\n",
       "    <tr>\n",
       "      <th>3</th>\n",
       "      <td>Australia Prod AustraliaCentral</td>\n",
       "      <td>CCAdmin-V1</td>\n",
       "      <td>2.151237e+00</td>\n",
       "    </tr>\n",
       "    <tr>\n",
       "      <th>4</th>\n",
       "      <td>Australia Prod AustraliaCentral</td>\n",
       "      <td>CCInterfaces</td>\n",
       "      <td>2.800014e-04</td>\n",
       "    </tr>\n",
       "    <tr>\n",
       "      <th>...</th>\n",
       "      <td>...</td>\n",
       "      <td>...</td>\n",
       "      <td>...</td>\n",
       "    </tr>\n",
       "    <tr>\n",
       "      <th>769</th>\n",
       "      <td>US Government Stage USGovVirginia</td>\n",
       "      <td>kodiak-api-services</td>\n",
       "      <td>1.592814e-06</td>\n",
       "    </tr>\n",
       "    <tr>\n",
       "      <th>770</th>\n",
       "      <td>US Government Stage USGovVirginia</td>\n",
       "      <td>media-for-evidence</td>\n",
       "      <td>2.351486e-02</td>\n",
       "    </tr>\n",
       "    <tr>\n",
       "      <th>771</th>\n",
       "      <td>US Government Stage USGovVirginia</td>\n",
       "      <td>ngcp</td>\n",
       "      <td>2.245755e-04</td>\n",
       "    </tr>\n",
       "    <tr>\n",
       "      <th>772</th>\n",
       "      <td>US Government Stage USGovVirginia</td>\n",
       "      <td>ngdp</td>\n",
       "      <td>1.336160e-07</td>\n",
       "    </tr>\n",
       "    <tr>\n",
       "      <th>773</th>\n",
       "      <td>US Government Stage USGovVirginia</td>\n",
       "      <td>prosecutor-portal</td>\n",
       "      <td>1.068928e-06</td>\n",
       "    </tr>\n",
       "  </tbody>\n",
       "</table>\n",
       "<p>774 rows × 3 columns</p>\n",
       "</div>"
      ],
      "text/plain": [
       "                           environment         project_name  \\\n",
       "0      Australia Prod AustraliaCentral   Analytics-Services   \n",
       "1      Australia Prod AustraliaCentral            BackupPTT   \n",
       "2      Australia Prod AustraliaCentral        CAD-WebClient   \n",
       "3      Australia Prod AustraliaCentral           CCAdmin-V1   \n",
       "4      Australia Prod AustraliaCentral         CCInterfaces   \n",
       "..                                 ...                  ...   \n",
       "769  US Government Stage USGovVirginia  kodiak-api-services   \n",
       "770  US Government Stage USGovVirginia   media-for-evidence   \n",
       "771  US Government Stage USGovVirginia                 ngcp   \n",
       "772  US Government Stage USGovVirginia                 ngdp   \n",
       "773  US Government Stage USGovVirginia    prosecutor-portal   \n",
       "\n",
       "     percentage_cost_env  \n",
       "0           2.413052e-07  \n",
       "1           1.053433e+00  \n",
       "2           1.105886e-01  \n",
       "3           2.151237e+00  \n",
       "4           2.800014e-04  \n",
       "..                   ...  \n",
       "769         1.592814e-06  \n",
       "770         2.351486e-02  \n",
       "771         2.245755e-04  \n",
       "772         1.336160e-07  \n",
       "773         1.068928e-06  \n",
       "\n",
       "[774 rows x 3 columns]"
      ]
     },
     "execution_count": 33,
     "metadata": {},
     "output_type": "execute_result"
    }
   ],
   "source": [
    "df_per.filter(df_per.cluster_cost==False).filter(df_per.environment!=\"None\").filter(df_per.project_name!=\"None\").groupBy(\"environment\",\"project_name\").agg(sum('cost_percent').alias('percentage_cost_env')).orderBy(\"environment\",\"project_name\").toPandas()"
   ]
  },
  {
   "cell_type": "markdown",
   "id": "adf978f7",
   "metadata": {},
   "source": [
    "# ##############"
   ]
  }
 ],
 "metadata": {
  "kernelspec": {
   "display_name": "Python 3 (ipykernel)",
   "language": "python",
   "name": "python3"
  },
  "language_info": {
   "codemirror_mode": {
    "name": "ipython",
    "version": 3
   },
   "file_extension": ".py",
   "mimetype": "text/x-python",
   "name": "python",
   "nbconvert_exporter": "python",
   "pygments_lexer": "ipython3",
   "version": "3.9.12"
  }
 },
 "nbformat": 4,
 "nbformat_minor": 5
}
